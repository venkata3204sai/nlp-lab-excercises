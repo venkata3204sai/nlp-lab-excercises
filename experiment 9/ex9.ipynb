{
 "cells": [
  {
   "cell_type": "code",
   "execution_count": 2,
   "id": "72220204-6a8f-4f5e-9521-4c5d4380115f",
   "metadata": {},
   "outputs": [],
   "source": [
    "from nltk.book import *"
   ]
  },
  {
   "cell_type": "code",
   "execution_count": 3,
   "id": "63b9eb76-6806-4349-b7a8-e3cdf18c8c63",
   "metadata": {},
   "outputs": [
    {
     "name": "stdout",
     "output_type": "stream",
     "text": [
      "vocabulary size: 19317\n"
     ]
    }
   ],
   "source": [
    "def vocab_size(text):\n",
    "    size = len(set(text))\n",
    "    print(f'vocabulary size: {size}')\n",
    "\n",
    "vocab_size(text1)"
   ]
  },
  {
   "cell_type": "code",
   "execution_count": 4,
   "id": "0df4751c-37d0-4244-990f-fb91bc63be9c",
   "metadata": {},
   "outputs": [
    {
     "name": "stdout",
     "output_type": "stream",
     "text": [
      "vocabulary size: 6807\n"
     ]
    }
   ],
   "source": [
    "vocab_size(text9)"
   ]
  }
 ],
 "metadata": {
  "kernelspec": {
   "display_name": "Python 3 (ipykernel)",
   "language": "python",
   "name": "python3"
  },
  "language_info": {
   "codemirror_mode": {
    "name": "ipython",
    "version": 3
   },
   "file_extension": ".py",
   "mimetype": "text/x-python",
   "name": "python",
   "nbconvert_exporter": "python",
   "pygments_lexer": "ipython3",
   "version": "3.11.7"
  }
 },
 "nbformat": 4,
 "nbformat_minor": 5
}
