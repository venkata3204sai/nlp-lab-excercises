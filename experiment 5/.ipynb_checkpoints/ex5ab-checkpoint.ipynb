{
 "cells": [
  {
   "cell_type": "code",
   "execution_count": 2,
   "id": "438e81af-f6db-48ef-9044-6d20f9d918e9",
   "metadata": {},
   "outputs": [
    {
     "name": "stdout",
     "output_type": "stream",
     "text": [
      "['she', 'shells', 'shore']\n"
     ]
    }
   ],
   "source": [
    "sent =  ['she', 'sells', 'sea', 'shells','by', 'the', 'sea', 'shore']\n",
    "\n",
    "print([word for word in sent if word.startswith('sh')])"
   ]
  },
  {
   "cell_type": "code",
   "execution_count": 3,
   "id": "6358440b-6f33-40d4-9b40-840da0d94b31",
   "metadata": {},
   "outputs": [
    {
     "name": "stdout",
     "output_type": "stream",
     "text": [
      "['sells', 'shells', 'shore']\n"
     ]
    }
   ],
   "source": [
    "print([word for word in sent if len(word) > 4])"
   ]
  }
 ],
 "metadata": {
  "kernelspec": {
   "display_name": "Python 3 (ipykernel)",
   "language": "python",
   "name": "python3"
  },
  "language_info": {
   "codemirror_mode": {
    "name": "ipython",
    "version": 3
   },
   "file_extension": ".py",
   "mimetype": "text/x-python",
   "name": "python",
   "nbconvert_exporter": "python",
   "pygments_lexer": "ipython3",
   "version": "3.11.7"
  }
 },
 "nbformat": 4,
 "nbformat_minor": 5
}
