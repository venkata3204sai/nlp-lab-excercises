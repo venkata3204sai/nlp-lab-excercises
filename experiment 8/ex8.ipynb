{
 "cells": [
  {
   "cell_type": "code",
   "execution_count": 2,
   "id": "78eb6ed0-6f07-4d14-a830-c9031dc6ff07",
   "metadata": {},
   "outputs": [],
   "source": [
    "from nltk.book import *"
   ]
  },
  {
   "cell_type": "code",
   "execution_count": 7,
   "id": "76584588-69de-4b37-be21-95cc0e0821b7",
   "metadata": {},
   "outputs": [
    {
     "name": "stdout",
     "output_type": "stream",
     "text": [
      "result: 4.754887087685839\n"
     ]
    }
   ],
   "source": [
    "def percent(word, text):\n",
    "    word_count = text.count(word)\n",
    "    text_len = len(text)\n",
    "    per = (word_count / text_len) * 100\n",
    "    print(f'result: {per}')\n",
    "\n",
    "percent('the', text9)"
   ]
  },
  {
   "cell_type": "code",
   "execution_count": 8,
   "id": "b90d300c-f5b5-4202-8c06-2d3ad6e14b5f",
   "metadata": {},
   "outputs": [
    {
     "name": "stdout",
     "output_type": "stream",
     "text": [
      "result: 2.630943297842565\n"
     ]
    }
   ],
   "source": [
    "percent('.', text1)"
   ]
  },
  {
   "cell_type": "code",
   "execution_count": null,
   "id": "c31fda99-d2cc-4da6-a027-5abd100a8a08",
   "metadata": {},
   "outputs": [],
   "source": []
  }
 ],
 "metadata": {
  "kernelspec": {
   "display_name": "Python 3 (ipykernel)",
   "language": "python",
   "name": "python3"
  },
  "language_info": {
   "codemirror_mode": {
    "name": "ipython",
    "version": 3
   },
   "file_extension": ".py",
   "mimetype": "text/x-python",
   "name": "python",
   "nbconvert_exporter": "python",
   "pygments_lexer": "ipython3",
   "version": "3.11.7"
  }
 },
 "nbformat": 4,
 "nbformat_minor": 5
}
