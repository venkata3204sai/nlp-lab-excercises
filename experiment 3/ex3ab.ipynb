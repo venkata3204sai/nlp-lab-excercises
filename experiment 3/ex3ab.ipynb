{
 "cells": [
  {
   "cell_type": "code",
   "execution_count": 3,
   "id": "bb8842d5-22a0-415f-87de-ebbb61c22f96",
   "metadata": {},
   "outputs": [
    {
     "name": "stdout",
     "output_type": "stream",
     "text": [
      "Venkata Sai\n"
     ]
    }
   ],
   "source": [
    "my_sent = ['Venkata', 'Sai']\n",
    "\n",
    "str = ' '.join(my_sent)\n",
    "print(str)"
   ]
  },
  {
   "cell_type": "code",
   "execution_count": 4,
   "id": "1ec972e7-18fa-42d1-93df-bc86c300efff",
   "metadata": {},
   "outputs": [
    {
     "data": {
      "text/plain": [
       "['Venkata', 'Sai']"
      ]
     },
     "execution_count": 4,
     "metadata": {},
     "output_type": "execute_result"
    }
   ],
   "source": [
    "str.split()"
   ]
  },
  {
   "cell_type": "code",
   "execution_count": null,
   "id": "92f29572-a28b-4976-9e22-de7809c6d4c8",
   "metadata": {},
   "outputs": [],
   "source": []
  }
 ],
 "metadata": {
  "kernelspec": {
   "display_name": "Python 3 (ipykernel)",
   "language": "python",
   "name": "python3"
  },
  "language_info": {
   "codemirror_mode": {
    "name": "ipython",
    "version": 3
   },
   "file_extension": ".py",
   "mimetype": "text/x-python",
   "name": "python",
   "nbconvert_exporter": "python",
   "pygments_lexer": "ipython3",
   "version": "3.11.7"
  }
 },
 "nbformat": 4,
 "nbformat_minor": 5
}
