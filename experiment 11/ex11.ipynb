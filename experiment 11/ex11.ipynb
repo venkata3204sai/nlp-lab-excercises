{
 "cells": [
  {
   "cell_type": "code",
   "execution_count": 1,
   "id": "ea2b8730-a508-472d-9c0c-cc28075d60e8",
   "metadata": {},
   "outputs": [],
   "source": [
    "from nltk.tokenize import word_tokenize\n",
    "from nltk.stem import PorterStemmer"
   ]
  },
  {
   "cell_type": "code",
   "execution_count": 4,
   "id": "549163d1-16ac-4590-ab05-3d3e2116c0a5",
   "metadata": {},
   "outputs": [
    {
     "name": "stdin",
     "output_type": "stream",
     "text": [
      "enter sentence:  he is rebelling against the anachronistic morality of his parents.\n"
     ]
    },
    {
     "name": "stdout",
     "output_type": "stream",
     "text": [
      "he : he\n",
      "is : is\n",
      "rebelling : rebel\n",
      "against : against\n",
      "the : the\n",
      "anachronistic : anachronist\n",
      "morality : moral\n",
      "of : of\n",
      "his : hi\n",
      "parents : parent\n",
      ". : .\n"
     ]
    }
   ],
   "source": [
    "ps = PorterStemmer()\n",
    "sent = input(\"enter sentence: \")\n",
    "words = word_tokenize(sent)\n",
    "for w in words:\n",
    "    print(w, \":\", ps.stem(w))"
   ]
  },
  {
   "cell_type": "code",
   "execution_count": null,
   "id": "48c5cfca-1a84-46ea-bd04-6b97c1f6fc33",
   "metadata": {},
   "outputs": [],
   "source": []
  }
 ],
 "metadata": {
  "kernelspec": {
   "display_name": "Python 3 (ipykernel)",
   "language": "python",
   "name": "python3"
  },
  "language_info": {
   "codemirror_mode": {
    "name": "ipython",
    "version": 3
   },
   "file_extension": ".py",
   "mimetype": "text/x-python",
   "name": "python",
   "nbconvert_exporter": "python",
   "pygments_lexer": "ipython3",
   "version": "3.11.7"
  }
 },
 "nbformat": 4,
 "nbformat_minor": 5
}
