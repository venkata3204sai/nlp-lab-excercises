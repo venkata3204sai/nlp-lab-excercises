{
 "cells": [
  {
   "cell_type": "code",
   "execution_count": 6,
   "id": "6ea0fa5c-0fcb-4666-b1fa-df99532a2608",
   "metadata": {},
   "outputs": [
    {
     "data": {
      "text/plain": [
       "'Hello, my name is sai'"
      ]
     },
     "execution_count": 6,
     "metadata": {},
     "output_type": "execute_result"
    }
   ],
   "source": [
    "my_string = 'Hello, my name is sai'\n",
    "\n",
    "my_string"
   ]
  },
  {
   "cell_type": "code",
   "execution_count": 7,
   "id": "ff6e1029-a75c-41d9-b5e8-aacac9373c35",
   "metadata": {},
   "outputs": [
    {
     "name": "stdout",
     "output_type": "stream",
     "text": [
      "Hello, my name is sai\n"
     ]
    }
   ],
   "source": [
    "print(my_string)"
   ]
  },
  {
   "cell_type": "code",
   "execution_count": 8,
   "id": "fd420750-8fd7-4f2d-ace6-df15660f23e5",
   "metadata": {},
   "outputs": [
    {
     "data": {
      "text/plain": [
       "'Hello, my name is saiHello, my name is sai'"
      ]
     },
     "execution_count": 8,
     "metadata": {},
     "output_type": "execute_result"
    }
   ],
   "source": [
    "my_string + my_string"
   ]
  },
  {
   "cell_type": "code",
   "execution_count": 9,
   "id": "e9451fd7-a1eb-48d3-bd9e-b9c51e29d24c",
   "metadata": {},
   "outputs": [
    {
     "data": {
      "text/plain": [
       "'Hello, my name is saiHello, my name is saiHello, my name is sai'"
      ]
     },
     "execution_count": 9,
     "metadata": {},
     "output_type": "execute_result"
    }
   ],
   "source": [
    "my_string * 3"
   ]
  },
  {
   "cell_type": "code",
   "execution_count": null,
   "id": "b3386ff4-32ae-4512-a862-6591a7600c49",
   "metadata": {},
   "outputs": [],
   "source": []
  }
 ],
 "metadata": {
  "kernelspec": {
   "display_name": "Python 3 (ipykernel)",
   "language": "python",
   "name": "python3"
  },
  "language_info": {
   "codemirror_mode": {
    "name": "ipython",
    "version": 3
   },
   "file_extension": ".py",
   "mimetype": "text/x-python",
   "name": "python",
   "nbconvert_exporter": "python",
   "pygments_lexer": "ipython3",
   "version": "3.11.7"
  }
 },
 "nbformat": 4,
 "nbformat_minor": 5
}
